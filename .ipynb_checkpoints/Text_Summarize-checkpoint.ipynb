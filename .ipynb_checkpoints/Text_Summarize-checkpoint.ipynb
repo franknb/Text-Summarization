{
 "cells": [
  {
   "cell_type": "markdown",
   "metadata": {},
   "source": [
    "# DistilBERT / BERT - huggingface\n",
    "\n",
    "***Frank Xu***\n",
    "\n",
    "The DistilBERT model was proposed in the blog post Smaller, faster, cheaper, lighter: Introducing DistilBERT, a distilled version of BERT, and the paper DistilBERT, a distilled version of BERT: smaller, faster, cheaper and lighter. DistilBERT is a small, fast, cheap and light Transformer model trained by distilling BERT base. It has 40% less parameters than bert-base-uncased, runs 60% faster while preserving over 95% of BERT’s performances as measured on the GLUE language understanding benchmark.\n",
    "\n",
    "For specific documentation please refer to: https://huggingface.co/transformers/model_doc/distilbert.html"
   ]
  },
  {
   "cell_type": "markdown",
   "metadata": {},
   "source": [
    "***Environment requirement:***\n",
    "\n",
    "***Python*** with following libraries:\n",
    "\n",
    "torch\n",
    "\n",
    "torchvision\n",
    "\n",
    "transformers (installed from github source)"
   ]
  },
  {
   "cell_type": "code",
   "execution_count": 1,
   "metadata": {},
   "outputs": [
    {
     "data": {
      "text/plain": [
       "'The tower is 324 metres (1,063 ft) tall, about the same height as an 81-storey building, and the tallest structure in Paris. Its base is square, measuring 125 metres (410 ft) on each side. During its construction, the Eiffel Tower surpassed the Washington Monument to become the tallest man-made structure in the world, a title it held for 41 years until the Chrysler Building in New York City was finished in 1930. It was the first structure to reach a height of 300 metres. Due to the addition of a broadcasting aerial at the top of the tower in 1957, it is now taller than the Chrysler Building by 5.2 metres (17 ft). Excluding transmitters, the Eiffel Tower is the second tallest free-standing structure in France after the Millau Viaduct.'"
      ]
     },
     "execution_count": 1,
     "metadata": {},
     "output_type": "execute_result"
    }
   ],
   "source": [
    "from transformers import AutoTokenizer, AutoModelForSeq2SeqLM, BartTokenizer, BartForConditionalGeneration\n",
    "\n",
    "ARTICLE_TO_SUMMARIZE = \"The tower is 324 metres (1,063 ft) tall, about the same height as an 81-storey building, and the tallest structure in Paris. Its base is square, measuring 125 metres (410 ft) on each side. During its construction, the Eiffel Tower surpassed the Washington Monument to become the tallest man-made structure in the world, a title it held for 41 years until the Chrysler Building in New York City was finished in 1930. It was the first structure to reach a height of 300 metres. Due to the addition of a broadcasting aerial at the top of the tower in 1957, it is now taller than the Chrysler Building by 5.2 metres (17 ft). Excluding transmitters, the Eiffel Tower is the second tallest free-standing structure in France after the Millau Viaduct.\"\n",
    "ARTICLE_TO_SUMMARIZE"
   ]
  },
  {
   "cell_type": "markdown",
   "metadata": {},
   "source": [
    "**Model 1: DistilBERT trained from cnn_dailymail dataset**\n",
    "\n",
    "Model info: https://huggingface.co/sshleifer/distilbart-cnn-12-6"
   ]
  },
  {
   "cell_type": "code",
   "execution_count": 2,
   "metadata": {},
   "outputs": [],
   "source": [
    "tokenizer1 = AutoTokenizer.from_pretrained(\"sshleifer/distilbart-cnn-12-6\")  \n",
    "model1 = AutoModelForSeq2SeqLM.from_pretrained(\"sshleifer/distilbart-cnn-12-6\")"
   ]
  },
  {
   "cell_type": "code",
   "execution_count": 3,
   "metadata": {},
   "outputs": [
    {
     "name": "stdout",
     "output_type": "stream",
     "text": [
      "[' The tower is 324 metres (1,063 ft) tall, about the same height as an 81-storey building . It was the first structure to reach a height of 300 metres . Excluding transmitters, it is the second tallest free-standing structure in France after the Millau Viaduct .']\n"
     ]
    }
   ],
   "source": [
    "inputs = tokenizer1([ARTICLE_TO_SUMMARIZE], return_tensors='pt')\n",
    "summary1 = model1.generate(inputs['input_ids'], early_stopping=True)\n",
    "print([tokenizer1.decode(g, skip_special_tokens=True, clean_up_tokenization_spaces=False) for g in summary1])"
   ]
  },
  {
   "cell_type": "markdown",
   "metadata": {},
   "source": [
    "**Model 2: trained from xsum dataset** (about 610 MB)\n",
    "\n",
    "Model info: https://huggingface.co/sshleifer/distilbart-xsum-12-6"
   ]
  },
  {
   "cell_type": "code",
   "execution_count": 4,
   "metadata": {},
   "outputs": [],
   "source": [
    "tokenizer2 = AutoTokenizer.from_pretrained(\"sshleifer/distilbart-xsum-12-6\")  \n",
    "model2 = AutoModelForSeq2SeqLM.from_pretrained(\"sshleifer/distilbart-xsum-12-6\")"
   ]
  },
  {
   "cell_type": "code",
   "execution_count": 5,
   "metadata": {},
   "outputs": [
    {
     "name": "stdout",
     "output_type": "stream",
     "text": [
      "[' The Eiffel Tower in Paris has officially opened its doors to the public.']\n"
     ]
    }
   ],
   "source": [
    "inputs = tokenizer2([ARTICLE_TO_SUMMARIZE], return_tensors='pt')\n",
    "summary2 = model2.generate(inputs['input_ids'], early_stopping=True)\n",
    "print([tokenizer2.decode(g, skip_special_tokens=True, clean_up_tokenization_spaces=False) for g in summary2])"
   ]
  },
  {
   "cell_type": "markdown",
   "metadata": {},
   "source": [
    "**Model 3: Facebook's BART trained from cnn_dailymail dataset** (about 1.63 GB)\n",
    "\n",
    "Model info: https://huggingface.co/facebook/bart-large-cnn"
   ]
  },
  {
   "cell_type": "code",
   "execution_count": 6,
   "metadata": {},
   "outputs": [],
   "source": [
    "tokenizer3 = BartTokenizer.from_pretrained('facebook/bart-large-cnn')\n",
    "model3 = BartForConditionalGeneration.from_pretrained('facebook/bart-large-cnn')"
   ]
  },
  {
   "cell_type": "code",
   "execution_count": 7,
   "metadata": {},
   "outputs": [
    {
     "name": "stdout",
     "output_type": "stream",
     "text": [
      "['The tower is 324 metres (1,063 ft) tall, about the same height as an 81-storey building. Its base is square, measuring 125 metres (410 ft) on each side. During its construction, the Eiffel Tower surpassed the Washington Monument to become the tallest man-made structure in the world.']\n"
     ]
    }
   ],
   "source": [
    "inputs = tokenizer3([ARTICLE_TO_SUMMARIZE], return_tensors='pt')\n",
    "summary3 = model3.generate(inputs['input_ids'], early_stopping=True)\n",
    "print([tokenizer3.decode(g, skip_special_tokens=True, clean_up_tokenization_spaces=False) for g in summary3])"
   ]
  },
  {
   "cell_type": "code",
   "execution_count": null,
   "metadata": {},
   "outputs": [],
   "source": []
  }
 ],
 "metadata": {
  "kernelspec": {
   "display_name": "Python 3",
   "language": "python",
   "name": "python3"
  },
  "language_info": {
   "codemirror_mode": {
    "name": "ipython",
    "version": 3
   },
   "file_extension": ".py",
   "mimetype": "text/x-python",
   "name": "python",
   "nbconvert_exporter": "python",
   "pygments_lexer": "ipython3",
   "version": "3.8.2"
  }
 },
 "nbformat": 4,
 "nbformat_minor": 4
}
