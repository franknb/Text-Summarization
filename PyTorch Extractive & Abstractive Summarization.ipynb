{
 "cells": [
  {
   "cell_type": "markdown",
   "metadata": {},
   "source": [
    "# Extractive Summarization"
   ]
  },
  {
   "cell_type": "code",
   "execution_count": 1,
   "metadata": {},
   "outputs": [],
   "source": [
    "import os\n",
    "# variable we need to set to get around macOS related issue\n",
    "os.environ['KMP_DUPLICATE_LIB_OK']='True'"
   ]
  },
  {
   "cell_type": "code",
   "execution_count": 2,
   "metadata": {},
   "outputs": [],
   "source": [
    "from summarizer import Summarizer"
   ]
  },
  {
   "cell_type": "code",
   "execution_count": 41,
   "metadata": {},
   "outputs": [
    {
     "name": "stdout",
     "output_type": "stream",
     "text": [
      "429\n",
      "This is America’s day.This is democracy’s day.A day of history and hope.Of renewal and resolve.Through a crucible for the ages America has been tested anew and America has risen to the challenge.Today, we celebrate the triumph not of a candidate, but of a cause, the cause of democracy.The will of the people has been heard and the will of the people has been heeded.We have learned again that democracy is precious.Democracy is fragile.And at this hour, my friends, democracy has prevailed.So now, on this hallowed ground where just days ago violence sought to shake this Capitol’s very foundation, we come together as one nation, under God, indivisible, to carry out the peaceful transfer of power as we have for more than two centuries.We look ahead in our uniquely American way – restless, bold, optimistic – and set our sights on the nation we know we can be and we must be.I thank my predecessors of both parties for their presence here.I thank them from the bottom of my heart.You know the resilience of our Constitution and the strength of our nation.As does President Carter, who I spoke to last night but who cannot be with us today, but whom we salute for his lifetime of service.I have just taken the sacred oath each of these patriots took — an oath first sworn by George Washington.But the American story depends not on any one of us, not on some of us, but on all of us.On “We the People” who seek a more perfect Union.This is a great nation and we are a good people.Over the centuries through storm and strife, in peace and in war, we have come so far. But we still have far to go.We will press forward with speed and urgency, for we have much to do in this winter of peril and possibility.Much to repair.Much to restore.Much to heal.Much to build.And much to gain.Few periods in our nation’s history have been more challenging or difficult than the one we’re in now.A once-in-a-century virus silently stalks the country.It’s taken as many lives in one year as America lost in all of World War II.Millions of jobs have been lost.Hundreds of thousands of businesses closed.A cry for racial justice some 400 years in the making moves us. The dream of justice for all will be deferred no longer.A cry for survival comes from the planet itself. A cry that can’t be any more desperate or any more clear.And now, a rise in political extremism, white supremacy, domestic terrorism that we must confront and we will defeat.To overcome these challenges – to restore the soul and to secure the future of America – requires more than words.It requires that most elusive of things in a democracy:Unity.Unity.In another January in Washington, on New Year’s Day 1863, Abraham Lincoln signed the Emancipation Proclamation.When he put pen to paper, the President said, “If my name ever goes down into history it will be for this act and my whole soul is in it.”My whole soul is in it.Today, on this January day, my whole soul is in this:Bringing America together.Uniting our people.And uniting our nation.I ask every American to join me in this cause.Uniting to fight the common foes we face:Anger, resentment, hatred.Extremism, lawlessness, violence.Disease, joblessness, hopelessness.With unity we can do great things. Important things.We can right wrongs.We can put people to work in good jobs.We can teach our children in safe schools.We can overcome this deadly virus.We can reward work, rebuild the middle class, and make health caresecure for all.We can deliver racial justice.We can make America, once again, the leading force for good in the world.I know speaking of unity can sound to some like a foolish fantasy.I know the forces that divide us are deep and they are real.But I also know they are not new.Our history has been a constant struggle between the American ideal that we are all created equal and the harsh, ugly reality that racism, nativism, fear, and demonization have long torn us apart.The battle is perennial.Victory is never assured.Through the Civil War, the Great Depression, World War, 9/11, through struggle, sacrifice, and setbacks, our “better angels” have always prevailed.In each of these moments, enough of us came together to carry all of us forward.And, we can do so now.History, faith, and reason show the way, the way of unity.We can see each other not as adversaries but as neighbors.We can treat each other with dignity and respect.We can join forces, stop the shouting, and lower the temperature.For without unity, there is no peace, only bitterness and fury.No progress, only exhausting outrage.No nation, only a state of chaos.This is our historic moment of crisis and challenge, and unity is the path forward.And, we must meet this moment as the United States of America.If we do that, I guarantee you, we will not fail.We have never, ever, ever failed in America when we have acted together.And so today, at this time and in this place, let us start afresh.All of us.Let us listen to one another.Hear one another.See one another.Show respect to one another.Politics need not be a raging fire destroying everything in its path.Every disagreement doesn’t have to be a cause for total war.And, we must reject a culture in which facts themselves are manipulated and even manufactured.My fellow Americans, we have to be different than this.America has to be better than this.And, I believe America is better than this.Just look around.Here we stand, in the shadow of a Capitol dome that was completed amid the Civil War, when the Union itself hung in the balance.Yet we endured and we prevailed.Here we stand looking out to the great Mall where Dr. King spoke of his dream.Here we stand, where 108 years ago at another inaugural, thousands of protestors tried to block brave women from marching for the right to vote.Today, we mark the swearing-in of the first woman in American history elected to national office – Vice President Kamala Harris.Don’t tell me things can’t change.Here we stand across the Potomac from Arlington National Cemetery, where heroes who gave the last full measure of devotion rest in eternal peace.And here we stand, just days after a riotous mob thought they could use violence to silence the will of the people, to stop the work of our democracy, and to drive us from this sacred ground.That did not happen.It will never happen.Not today.Not tomorrow.Not ever.To all those who supported our campaign I am humbled by the faith you have placed in us.To all those who did not support us, let me say this: Hear me out as we move forward. Take a measure of me and my heart.And if you still disagree, so be it.That’s democracy. That’s America. The right to dissent peaceably, within the guardrails of our Republic, is perhaps our nation’s greatest strength.Yet hear me clearly: Disagreement must not lead to disunion.And I pledge this to you: I will be a President for all Americans.I will fight as hard for those who did not support me as for those who did.Many centuries ago, Saint Augustine, a saint of my church, wrote that a people was a multitude defined by the common objects of their love.What are the common objects we love that define us as Americans?I think I know.Opportunity.Security.Liberty.Dignity.Respect.Honor.And, yes, the truth.Recent weeks and months have taught us a painful lesson.There is truth and there are lies.Lies told for power and for profit.And each of us has a duty and responsibility, as citizens, as Americans, and especially as leaders – leaders who have pledged to honor our Constitution and protect our nation — to defend the truth and to defeat the lies.I understand that many Americans view the future with some fear and trepidation.I understand they worry about their jobs, about taking care of their families, about what comes next.I get it.But the answer is not to turn inward, to retreat into competing factions, distrusting those who don’t look like you do, or worship the way you do, or don’t get their news from the same sources you do.We must end this uncivil war that pits red against blue, rural versus urban, conservative versus liberal.We can do this if we open our souls instead of hardening our hearts.If we show a little tolerance and humility.If we’re willing to stand in the other person’s shoes just for a moment.Because here is the thing about life: There is no accounting for what fate will deal you.There are some days when we need a hand.There are other days when we’re called on to lend one.That is how we must be with one another.And, if we are this way, our country will be stronger, more prosperous, more ready for the future.My fellow Americans, in the work ahead of us, we will need each other.We will need all our strength to persevere through this dark winter.We are entering what may well be the toughest and deadliest period of the virus.We must set aside the politics and finally face this pandemic as one nation.I promise you this: as the Bible says weeping may endure for a night but joy cometh in the morning.We will get through this, togetherThe world is watching today.So here is my message to those beyond our borders: America has been tested and we have come out stronger for it.We will repair our alliances and engage with the world once again.Not to meet yesterday’s challenges, but today’s and tomorrow’s.We will lead not merely by the example of our power but by the power of our example.We will be a strong and trusted partner for peace, progress, and security.We have been through so much in this nation.And, in my first act as President, I would like to ask you to join me in a moment of silent prayer to remember all those we lost this past year to the pandemic.To those 400,000 fellow Americans – mothers and fathers, husbands and wives, sons and daughters, friends, neighbors, and co-workers.We will honor them by becoming the people and nation we know we can and should be.Let us say a silent prayer for those who lost their lives, for those they left behind, and for our country.Amen.This is a time of testing.We face an attack on democracy and on truth.A raging virus.Growing inequity.The sting of systemic racism.A climate in crisis.America’s role in the world.Any one of these would be enough to challenge us in profound ways.But the fact is we face them all at once, presenting this nation with the gravest of responsibilities.Now we must step up.All of us.It is a time for boldness, for there is so much to do.And, this is certain.We will be judged, you and I, for how we resolve the cascading crises of our era.Will we rise to the occasion?Will we master this rare and difficult hour?Will we meet our obligations and pass along a new and better world for our children?I believe we must and I believe we will.And when we do, we will write the next chapter in the American story.It’s a story that might sound something like a song that means a lot to me.It’s called “American Anthem” and there is one verse stands out for me:“The work and prayersof centuries have brought us to this dayWhat shall be our legacy?What will our children say?…Let me know in my heartWhen my days are throughAmericaAmericaI gave my best to you.”Let us add our own work and prayers to the unfolding story of our nation.If we do this then when our days are through our children and our children’s children will say of us they gave their best.They did their duty.They healed a broken land.My fellow Americans, I close today where I began, with a sacred oath.Before God and all of you I give you my word.I will always level with you.I will defend the Constitution.I will defend our democracy.I will defend America.I will give my all in your service thinking not of power, but of possibilities.Not of personal interest, but of the public good.And together, we shall write an American story of hope, not fear.Of unity, not division.Of light, not darkness.An American story of decency and dignity.Of love and of healing.Of greatness and of goodness.May this be the story that guides us.The story that inspires us.The story that tells ages yet to come that we answered the call of history.We met the moment.That democracy and hope, truth and justice, did not die on our watch but thrived.That our America secured liberty at home and stood once again as a beacon to the world.That is what we owe our forebearers, one another, and generations to follow.So, with purpose and resolve we turn to the tasks of our time.Sustained by faith.Driven by conviction.And, devoted to one another and to this country we love with all our hearts.May God bless America and may God protect our troops.Thank you, America.\n"
     ]
    }
   ],
   "source": [
    "with open('./transcripts/joe_biden.txt', 'r') as file:\n",
    "    data = file.read()\n",
    "data_arr = data.split(\"\\n\")\n",
    "print(len(data_arr))\n",
    "#print(data_arr[0])\n",
    "cleaned_data = \"\"\n",
    "for i in range(1, len(data_arr)):\n",
    "    cleaned_data += data_arr[i]\n",
    "print(cleaned_data)"
   ]
  },
  {
   "cell_type": "code",
   "execution_count": 42,
   "metadata": {},
   "outputs": [],
   "source": [
    "preprocess_text = cleaned_data.strip().replace(\"\\n\",\"\")"
   ]
  },
  {
   "cell_type": "code",
   "execution_count": 52,
   "metadata": {},
   "outputs": [],
   "source": [
    "extractive_model = Summarizer()\n",
    "extractive_result = extractive_model(preprocess_text, ratio=0.2)"
   ]
  },
  {
   "cell_type": "code",
   "execution_count": 53,
   "metadata": {},
   "outputs": [
    {
     "data": {
      "text/plain": [
       "'Through a crucible for the ages America has been tested anew and America has risen to the challenge. And at this hour, my friends, democracy has prevailed. I thank my predecessors of both parties for their presence here. Hundreds of thousands of businesses closed. The dream of justice for all will be deferred no longer. A cry for survival comes from the planet itself. Today, on this January day, my whole soul is in this:Bringing America together. We can teach our children in safe schools. We can make America, once again, the leading force for good in the world. History, faith, and reason show the way, the way of unity. And so today, at this time and in this place, let us start afresh. Every disagreement doesn’t have to be a cause for total war. Here we stand, in the shadow of a Capitol dome that was completed amid the Civil War, when the Union itself hung in the balance. Here we stand across the Potomac from Arlington National Cemetery, where heroes who gave the last full measure of devotion rest in eternal peace. The right to dissent peaceably, within the guardrails of our Republic, is perhaps our nation’s greatest strength. Recent weeks and months have taught us a painful lesson. We can do this if we open our souls instead of hardening our hearts. There are other days when we’re called on to lend one. We will need all our strength to persevere through this dark winter. We must set aside the politics and finally face this pandemic as one nation. So here is my message to those beyond our borders: America has been tested and we have come out stronger for it. We will lead not merely by the example of our power but by the power of our example. To those 400,000 fellow Americans – mothers and fathers, husbands and wives, sons and daughters, friends, neighbors, and co-workers. We will be judged, you and I, for how we resolve the cascading crises of our era. My fellow Americans, I close today where I began, with a sacred oath.'"
      ]
     },
     "execution_count": 53,
     "metadata": {},
     "output_type": "execute_result"
    }
   ],
   "source": [
    "extractive_result"
   ]
  },
  {
   "cell_type": "code",
   "execution_count": 54,
   "metadata": {},
   "outputs": [
    {
     "name": "stdout",
     "output_type": "stream",
     "text": [
      "351\n"
     ]
    }
   ],
   "source": [
    "array_result = extractive_result.split(' ')\n",
    "print(len(array_result))"
   ]
  },
  {
   "cell_type": "markdown",
   "metadata": {},
   "source": [
    "# Abstractive Summarization"
   ]
  },
  {
   "cell_type": "code",
   "execution_count": 3,
   "metadata": {},
   "outputs": [],
   "source": [
    "import torch\n",
    "import json \n",
    "from transformers import T5Tokenizer, T5ForConditionalGeneration, T5Config\n",
    "\n",
    "model = T5ForConditionalGeneration.from_pretrained('t5-small')\n",
    "tokenizer = T5Tokenizer.from_pretrained('t5-small')\n",
    "device = torch.device('cpu')"
   ]
  },
  {
   "cell_type": "code",
   "execution_count": 58,
   "metadata": {},
   "outputs": [
    {
     "name": "stdout",
     "output_type": "stream",
     "text": [
      "original text preprocessed: \n",
      " Through a crucible for the ages America has been tested anew and America has risen to the challenge. And at this hour, my friends, democracy has prevailed. I thank my predecessors of both parties for their presence here. Hundreds of thousands of businesses closed. The dream of justice for all will be deferred no longer. A cry for survival comes from the planet itself. Today, on this January day, my whole soul is in this:Bringing America together. We can teach our children in safe schools. We can make America, once again, the leading force for good in the world. History, faith, and reason show the way, the way of unity. And so today, at this time and in this place, let us start afresh. Every disagreement doesn’t have to be a cause for total war. Here we stand, in the shadow of a Capitol dome that was completed amid the Civil War, when the Union itself hung in the balance. Here we stand across the Potomac from Arlington National Cemetery, where heroes who gave the last full measure of devotion rest in eternal peace. The right to dissent peaceably, within the guardrails of our Republic, is perhaps our nation’s greatest strength. Recent weeks and months have taught us a painful lesson. We can do this if we open our souls instead of hardening our hearts. There are other days when we’re called on to lend one. We will need all our strength to persevere through this dark winter. We must set aside the politics and finally face this pandemic as one nation. So here is my message to those beyond our borders: America has been tested and we have come out stronger for it. We will lead not merely by the example of our power but by the power of our example. To those 400,000 fellow Americans – mothers and fathers, husbands and wives, sons and daughters, friends, neighbors, and co-workers. We will be judged, you and I, for how we resolve the cascading crises of our era. My fellow Americans, I close today where I began, with a sacred oath.\n"
     ]
    }
   ],
   "source": [
    "t5_prepared_Text = \"summarize: \"+extractive_result\n",
    "print (\"original text preprocessed: \\n\", extractive_result)"
   ]
  },
  {
   "cell_type": "code",
   "execution_count": 59,
   "metadata": {},
   "outputs": [
    {
     "name": "stdout",
     "output_type": "stream",
     "text": [
      "\n",
      "\n",
      "Summarized text: \n",
      " today, on this January day, my whole soul is in this:Bringing America together. we can make America, once again, the leading force for good in the world, history, faith, and reason show the way of unity. and so today let us start afresh. every disagreement doesn’t have to be causing total war. here we stand across the Potomac from Arlington National Cemetery. heroes who gave the last full measure of devotion rest in eternal peace.\n"
     ]
    }
   ],
   "source": [
    "tokenized_text = tokenizer.encode(t5_prepared_Text, return_tensors=\"pt\").to(device)\n",
    "\n",
    "\n",
    "# summmarize \n",
    "summary_ids = model.generate(tokenized_text,\n",
    "                                    num_beams=4,\n",
    "                                    no_repeat_ngram_size=2,\n",
    "                                    min_length=60,\n",
    "                                    max_length=300,\n",
    "                                    early_stopping=True)\n",
    "\n",
    "output = tokenizer.decode(summary_ids[0], skip_special_tokens=True)\n",
    "\n",
    "print (\"\\n\\nSummarized text: \\n\",output)"
   ]
  },
  {
   "cell_type": "code",
   "execution_count": 32,
   "metadata": {},
   "outputs": [
    {
     "name": "stderr",
     "output_type": "stream",
     "text": [
      "Token indices sequence length is longer than the specified maximum sequence length for this model (545 > 512). Running this sequence through the model will result in indexing errors\n"
     ]
    },
    {
     "name": "stdout",
     "output_type": "stream",
     "text": [
      "\n",
      "\n",
      "Summarized text: \n",
      " we've sold enough new work and I'll hit some wins in a minute. this week we had wins at 11 or 12 different clients, but we have excited to announce 11 in terms who accepted the non paid internship and will start on June 15th. be 100% virtual experience for them but once they do get on board will look to make them feel welcome.\n"
     ]
    }
   ],
   "source": [
    "tokenized_text = tokenizer.encode(t5_prepared_Text, return_tensors=\"pt\").to(device)\n",
    "\n",
    "\n",
    "# summmarize \n",
    "summary_ids = model.generate(tokenized_text,\n",
    "                                    num_beams=6,\n",
    "                                    no_repeat_ngram_size=2,\n",
    "                                    min_length=60,\n",
    "                                    max_length=300,\n",
    "                                    early_stopping=True)\n",
    "\n",
    "output = tokenizer.decode(summary_ids[0], skip_special_tokens=True)\n",
    "\n",
    "print (\"\\n\\nSummarized text: \\n\",output)"
   ]
  },
  {
   "cell_type": "code",
   "execution_count": null,
   "metadata": {},
   "outputs": [],
   "source": []
  },
  {
   "cell_type": "markdown",
   "metadata": {},
   "source": [
    "## Cleaned Transcript Processing"
   ]
  },
  {
   "cell_type": "code",
   "execution_count": 18,
   "metadata": {},
   "outputs": [],
   "source": [
    "from os import listdir\n",
    "import os\n",
    "from summarizer import Summarizer\n",
    "import torch\n",
    "import json \n",
    "from transformers import T5Tokenizer, T5ForConditionalGeneration, T5Config\n",
    "\n",
    "# variable we need to set to get around \n",
    "os.environ['KMP_DUPLICATE_LIB_OK']='True'\n",
    "\n",
    "model = T5ForConditionalGeneration.from_pretrained('t5-small')\n",
    "tokenizer = T5Tokenizer.from_pretrained('t5-small')\n",
    "device = torch.device('cpu')\n",
    "transcript_folder = './cleaned_transcripts/'"
   ]
  },
  {
   "cell_type": "code",
   "execution_count": 19,
   "metadata": {},
   "outputs": [],
   "source": [
    "def get_extractive_summary(cleaned_data, extracted_ratio):\n",
    "    preprocess_text = cleaned_data.strip().replace(\"\\n\",\"\")\n",
    "    extractive_model = Summarizer()\n",
    "    return extractive_model(preprocess_text, ratio=extracted_ratio)\n",
    "    "
   ]
  },
  {
   "cell_type": "code",
   "execution_count": 20,
   "metadata": {},
   "outputs": [],
   "source": [
    "def get_extract_ratio(target, word_count):\n",
    "    return target / word_count"
   ]
  },
  {
   "cell_type": "code",
   "execution_count": 21,
   "metadata": {},
   "outputs": [],
   "source": [
    "def get_abstractive_summary(input_text):\n",
    "    t5_prepared_Text = \"summarize: \"+input_text\n",
    "    tokenized_text = tokenizer.encode(t5_prepared_Text, return_tensors=\"pt\").to(device)\n",
    "    # summmarize \n",
    "    summary_ids = model.generate(tokenized_text,\n",
    "                                        num_beams=6,\n",
    "                                        no_repeat_ngram_size=2,\n",
    "                                        min_length=90,\n",
    "                                        max_length=300,\n",
    "                                        early_stopping=True)\n",
    "\n",
    "    return tokenizer.decode(summary_ids[0], skip_special_tokens=True)"
   ]
  },
  {
   "cell_type": "code",
   "execution_count": 22,
   "metadata": {},
   "outputs": [
    {
     "name": "stdout",
     "output_type": "stream",
     "text": [
      "['20200814_cleaned.txt', '20200424_cleaned.txt', '20201106_Cleaned.txt', '20200717_cleaned.txt', '20200515_cleaned.txt']\n"
     ]
    }
   ],
   "source": [
    "files = listdir(transcript_folder)\n",
    "print(files)"
   ]
  },
  {
   "cell_type": "code",
   "execution_count": 6,
   "metadata": {},
   "outputs": [
    {
     "name": "stdout",
     "output_type": "stream",
     "text": [
      "./cleaned_transcripts/20200814_cleaned.txt\n",
      "Extractive length: 324\n",
      "Abstractive length: 72\n",
      "ABSTRACTIVE_SUMMARY\n",
      "we'll be rolling out a new CPM tool in September, which should make the process your monthly check-ins with your career coach. no changes to the actual expectations, framework or the expectations this year, or any changes in the sort of promotion process or compensation process. the new tool will be rolled out in september, but it's slated to be released in january, and is expected to take place in early october.\n",
      "\n",
      "\n",
      "Short extractive word count: 94\n",
      "EXTRACTIVE_SUMMARY\n",
      "A quick video this week just to give you an update on what's going on. When we had to make the adjustment to the internship program back in the spring, Ann, Meredith, and Evan in particular did an incredible job of organizing that and the parts that I participated in and they just set a whole agenda, it was just thoughtful an I'm sure it was tremendously valuable and impactful to the to those young people and so well done. But we don't rest on just being like good or wherever at that moment.\n",
      "\n",
      "\n",
      "\n",
      "\n",
      "./cleaned_transcripts/20200424_cleaned.txt\n",
      "Extractive length: 374\n",
      "Abstractive length: 90\n",
      "ABSTRACTIVE_SUMMARY\n",
      "the 1st three or four weeks of this season has stabilized a bit. the team of Sandra Benoit, Taylor Marley, Grace Lee, and Elizabeth Abston had done an amazing job - and this is an awesome video that's one of the highlights of my 20 year career. you know, I just want to say thank you to all of you who put your time and energy and efforts into helping recruit those individuals. You've done great job and I'm super excited about them joining the firm when they are \n",
      "\n",
      "\n",
      "Short extractive word count: 116\n",
      "EXTRACTIVE_SUMMARY\n",
      "First, I wanted to let you know that we are working on the Credera version of what reopening may look like. Just know that we're very much aware that each of us is going to be on a pretty broad spectrum in terms of our individual comfort with returning to the office, returning to some of the norms we had before, and so all of our Credera reentry plan on that will be very very flexible. We have verbal on a couple of projects at Amgen. Great new win at National Instruments and so I just really want to encourage everyone you know our hard work and tenacity and grit on that is really paying off.\n",
      "\n",
      "\n",
      "\n",
      "\n",
      "./cleaned_transcripts/20201106_Cleaned.txt\n",
      "Extractive length: 232\n",
      "Abstractive length: 82\n",
      "ABSTRACTIVE_SUMMARY\n",
      "our business continues to be in really good shape and really healthy, so October we didn't quite hit the $10,000,000 target that we mentioned a couple weeks ago and thought we were going to get to. November and December look great and are starting to shape up really nicely heading into January in Q1. get some rest and we will see you next week. if you have any questions about the election that's been going on in the u.s., contact us today.\n",
      "\n",
      "\n",
      "Short extractive word count: 88\n",
      "EXTRACTIVE_SUMMARY\n",
      "Wanted to start out this week talking a bit about the election that's been going on in the United States. And it's been it's been quite nice because it's been always kind of backed by the understanding that we can be honest with each other. In terms of just normal business updates: Our business continues to be in really good shape and really healthy, so October we didn't quite hit the $10,000,000 target that we mentioned a couple weeks ago and thought we were going to get to.\n",
      "\n",
      "\n",
      "\n",
      "\n",
      "./cleaned_transcripts/20200717_cleaned.txt\n",
      "Extractive length: 351\n",
      "Abstractive length: 93\n",
      "ABSTRACTIVE_SUMMARY\n",
      "this week we got pretty big wins at wild type in NRG, echelon Fitness and teavana. but really big week there and really strong sales pipeline. so what that will mean is we will begin to have some. some new campus hires joining us at the end of this month. we now officially have a date locked in for the closing on the London acquisition and that. I wanted to go ahead and give you that certainty on what it's going to look like. send us in your receipt and we'll make sure\n",
      "\n",
      "\n",
      "Short extractive word count: 117\n",
      "EXTRACTIVE_SUMMARY\n",
      "And continue to see tremendous success in win rate on some pretty interesting and big pieces of business and so extremely well done across the board by the team and our leaders. In particular, this week we got pretty big wins at wild type in NRG, Echelon Fitness, teavana I think there are some others that I that I haven't included there. So what that will mean is we will begin to have some. So right at the end of July, which is super exciting and always good for our business and the culture to get that new energy in the building and new talent in the building, so to speak, and so really encouraged by that.\n",
      "\n",
      "\n",
      "\n",
      "\n",
      "./cleaned_transcripts/20200515_cleaned.txt\n"
     ]
    },
    {
     "name": "stderr",
     "output_type": "stream",
     "text": [
      "Token indices sequence length is longer than the specified maximum sequence length for this model (549 > 512). Running this sequence through the model will result in indexing errors\n"
     ]
    },
    {
     "name": "stdout",
     "output_type": "stream",
     "text": [
      "Extractive length: 427\n",
      "Abstractive length: 84\n",
      "ABSTRACTIVE_SUMMARY\n",
      "we're beginning to think about hiring again in a couple of key areas. we had wins at I think 11 or 12 different clients this week, but it was really good week in terms of utilization and ultimately you know close to our revenue target. i'm thankful for all of you grateful for the work that you continue to put in. and as I mentioned earlier, we are starting to begin to even consider hiring back, which is an awesome position to be in!\n",
      "\n",
      "\n",
      "Short extractive word count: 143\n",
      "EXTRACTIVE_SUMMARY\n",
      "You know, at this point May is looking really good in terms of utilization and and ultimately you know close to our revenue target. Very, very positive sign for the business and I'm very thankful for that. Want to celebrate some of the Impact awards and the Junkyard Dog Award. From a Junkyard Dog award standpoint this this week it's going to go to Anna Grace Franklin, who on Earth of Fix and add Orthofix made herself so invaluable to the client that even though they were making some cutbacks across the board, she jumped in had established that credibility and that value and that impact, but also proactively put together kind of the business case in Esso to get herself extended and the team later extended on into the summer, so tremendous job Anna Grace and related at Orthofix team in general.\n",
      "\n",
      "\n",
      "\n",
      "\n"
     ]
    }
   ],
   "source": [
    "for file in files:\n",
    "    file_path = transcript_folder + file\n",
    "    print(file_path)\n",
    "    with open(file_path, 'r') as file_reader:\n",
    "        data = file_reader.read()\n",
    "    data_arr = data.split(\"\\n\")\n",
    "    cleaned_data = \"\"\n",
    "    for i in range(1, len(data_arr)):\n",
    "        cleaned_data += data_arr[i]\n",
    "    word_count = len(cleaned_data.split(\" \"))\n",
    "    ratio = get_extract_ratio(450.0, word_count)\n",
    "    extractive_summary = get_extractive_summary(cleaned_data, ratio)\n",
    "    print(\"Extractive length: \" + str(len(extractive_summary.split(\" \"))))\n",
    "    abstractive_summary = get_abstractive_summary(extractive_summary)\n",
    "    abstractive_word_count = len(abstractive_summary.split(\" \"))\n",
    "    print(\"Abstractive length: \" + str(abstractive_word_count))\n",
    "    print(\"ABSTRACTIVE_SUMMARY\")\n",
    "    print(abstractive_summary)\n",
    "    extractive_ratio = get_extract_ratio(abstractive_word_count * 1.1, word_count)\n",
    "    extractive_short = get_extractive_summary(cleaned_data, extractive_ratio)\n",
    "    short_ext_word_count = len(extractive_short.split(\" \"))\n",
    "    print('\\n')\n",
    "    print(\"Short extractive word count: \" + str(short_ext_word_count))\n",
    "    print(\"EXTRACTIVE_SUMMARY\")\n",
    "    print(extractive_short)\n",
    "    print('\\n\\n\\n')"
   ]
  },
  {
   "cell_type": "markdown",
   "metadata": {},
   "source": [
    "## Larger Model"
   ]
  },
  {
   "cell_type": "code",
   "execution_count": 23,
   "metadata": {},
   "outputs": [],
   "source": [
    "model = T5ForConditionalGeneration.from_pretrained('t5-small')\n",
    "tokenizer = T5Tokenizer.from_pretrained('t5-small')\n",
    "device = torch.device('cpu')\n",
    "transcript_folder = './cleaned_transcripts/'"
   ]
  },
  {
   "cell_type": "code",
   "execution_count": 24,
   "metadata": {},
   "outputs": [
    {
     "name": "stdout",
     "output_type": "stream",
     "text": [
      "['20200814_cleaned.txt', '20200424_cleaned.txt', '20201106_Cleaned.txt', '20200717_cleaned.txt', '20200515_cleaned.txt']\n"
     ]
    }
   ],
   "source": [
    "from os import listdir\n",
    "files = listdir(transcript_folder)\n",
    "print(files)"
   ]
  },
  {
   "cell_type": "code",
   "execution_count": 25,
   "metadata": {},
   "outputs": [],
   "source": [
    "def get_abstractive_summary(input_text):\n",
    "    t5_prepared_Text = \"summarize: \"+input_text\n",
    "    tokenized_text = tokenizer.encode(t5_prepared_Text, return_tensors=\"pt\").to(device)\n",
    "    # summmarize \n",
    "    summary_ids = model.generate(tokenized_text,\n",
    "                                        num_beams=6,\n",
    "                                        no_repeat_ngram_size=2,\n",
    "                                        min_length=90,\n",
    "                                        max_length=300,\n",
    "                                        early_stopping=True)\n",
    "\n",
    "    return tokenizer.decode(summary_ids[0], skip_special_tokens=True)"
   ]
  },
  {
   "cell_type": "code",
   "execution_count": 27,
   "metadata": {},
   "outputs": [
    {
     "name": "stdout",
     "output_type": "stream",
     "text": [
      "./cleaned_transcripts/20200814_cleaned.txt\n",
      "Punctuation count: 38\n",
      "Word count: 426\n",
      "\n",
      "\n",
      "Abstractive length: 86\n",
      "ABSTRACTIVE_SUMMARY\n",
      "this week we hosted our intern Leadership Development Conference, which was part of what we were able to offer the interns that did the internship with us, as well as some of those who chose not to. it was thoughtful and impactful to the young people and so well done, and it really blew me away in terms of just its professionalism, the quality of the work, how many people contributed to it across certainly our marketing team and the UX team being the heavy lifters.\n",
      "./cleaned_transcripts/20200424_cleaned.txt\n",
      "Punctuation count: 32\n",
      "Word count: 426\n",
      "\n",
      "\n",
      "Abstractive length: 81\n",
      "ABSTRACTIVE_SUMMARY\n",
      "we're working on the Credera version of what reopening may look like. it's under underway and specifically the guiding principles that we are working from there is that first and foremost health and safety of our team is what we care the most about. if you have a job post graduation versus some of alternative scenario scenario, you'll be able to say thank you to all of you who put your time and energy and efforts into helping recruit those individuals.\n",
      "./cleaned_transcripts/20201106_Cleaned.txt\n",
      "Punctuation count: 41\n",
      "Word count: 426\n",
      "\n",
      "\n",
      "Abstractive length: 88\n",
      "ABSTRACTIVE_SUMMARY\n",
      "if you voted, we're all feeling a bit of anxiety and stress and frustration and emotion on top of everything else that's already going on in our lives and in the year 2020. I wanted for all of us to practice good inclusive leadership, again, regardless of how you vote, whether you believe or what you feel to be respectful of other people and also just appreciate that there are certainly some of your colleagues who are hurting and so do whatever you can to help those people.\n",
      "./cleaned_transcripts/20200717_cleaned.txt\n",
      "Punctuation count: 38\n",
      "Word count: 426\n",
      "\n",
      "\n"
     ]
    },
    {
     "name": "stderr",
     "output_type": "stream",
     "text": [
      "Token indices sequence length is longer than the specified maximum sequence length for this model (556 > 512). Running this sequence through the model will result in indexing errors\n"
     ]
    },
    {
     "name": "stdout",
     "output_type": "stream",
     "text": [
      "Abstractive length: 74\n",
      "ABSTRACTIVE_SUMMARY\n",
      "this week we got pretty big wins at wild type in NRG, Echelon Fitness, teavana. but really big week there and really strong sales pipeline. looking forward because that's enabled us to do something that was really fun, which is to actually reach back out to all of our campus hires that are supposed to start this fall and offer them the opportunity if they wanted to begin either one or two months early.\n",
      "./cleaned_transcripts/20200515_cleaned.txt\n",
      "Punctuation count: 60\n",
      "Word count: 426\n",
      "\n",
      "\n",
      "Abstractive length: 73\n",
      "ABSTRACTIVE_SUMMARY\n",
      "we're just about one month away from when we expect to close that and bring them into the Credera family as well. this is a good new business win in any economic climates, but especially good in this current one that we’re in.Quick just kind of follow up on the campus and internship program so that they continue to receive good feedback from the universities that were impacted and then from our interns.\n"
     ]
    }
   ],
   "source": [
    "punctuation = [\".\", \"-\", \"'\", \",\"]\n",
    "for file in files:\n",
    "    file_path = transcript_folder + file\n",
    "    print(file_path)\n",
    "    with open(file_path, 'r') as file_reader:\n",
    "        data = file_reader.read()\n",
    "    data_arr = data.split(\"\\n\")\n",
    "    cleaned_data = \"\"\n",
    "    for i in range(1, len(data_arr)):\n",
    "        cleaned_data += data_arr[i]\n",
    "    truncated_data = \"\"\n",
    "    punctuation_count = 0   \n",
    "    for i in range(0, 425):\n",
    "        if(i < len(cleaned_data)):\n",
    "            word = cleaned_data.split(\" \")[i]\n",
    "            truncated_data += word\n",
    "            truncated_data += \" \"\n",
    "            for letter in word:\n",
    "                if letter in punctuation:\n",
    "                    punctuation_count += 1\n",
    "        else:\n",
    "            break\n",
    "    word_count = len(truncated_data.split(\" \"))\n",
    "    print(f\"Punctuation count: {punctuation_count}\")\n",
    "    print(f\"Word count: {word_count}\")\n",
    "    print(\"\\n\")\n",
    "    abstractive_summary = get_abstractive_summary(truncated_data)\n",
    "    abstractive_word_count = len(abstractive_summary.split(\" \"))\n",
    "    print(\"Abstractive length: \" + str(abstractive_word_count))\n",
    "    print(\"ABSTRACTIVE_SUMMARY\")\n",
    "    print(abstractive_summary)"
   ]
  },
  {
   "cell_type": "code",
   "execution_count": null,
   "metadata": {},
   "outputs": [],
   "source": []
  }
 ],
 "metadata": {
  "kernelspec": {
   "display_name": "Python 3",
   "language": "python",
   "name": "python3"
  },
  "language_info": {
   "codemirror_mode": {
    "name": "ipython",
    "version": 3
   },
   "file_extension": ".py",
   "mimetype": "text/x-python",
   "name": "python",
   "nbconvert_exporter": "python",
   "pygments_lexer": "ipython3",
   "version": "3.7.3"
  }
 },
 "nbformat": 4,
 "nbformat_minor": 2
}
